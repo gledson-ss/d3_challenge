{
 "metadata": {
  "language_info": {
   "codemirror_mode": {
    "name": "ipython",
    "version": 3
   },
   "file_extension": ".py",
   "mimetype": "text/x-python",
   "name": "python",
   "nbconvert_exporter": "python",
   "pygments_lexer": "ipython3",
   "version": "3.8.5-final"
  },
  "orig_nbformat": 2,
  "kernelspec": {
   "name": "python3",
   "display_name": "Python 3.8.5 64-bit",
   "metadata": {
    "interpreter": {
     "hash": "31f2aee4e71d21fbe5cf8b01ff0e069b9275f58929596ceb00d14d90e3e16cd6"
    }
   }
  }
 },
 "nbformat": 4,
 "nbformat_minor": 2,
 "cells": [
  {
   "cell_type": "code",
   "execution_count": 104,
   "metadata": {},
   "outputs": [],
   "source": [
    "import csv, pandas as pd"
   ]
  },
  {
   "cell_type": "code",
   "execution_count": 105,
   "metadata": {
    "tags": []
   },
   "outputs": [],
   "source": [
    "keywords = [\n",
    "    'id',\n",
    "    'date',\n",
    "    'new_cases',\n",
    "    'new_cases_per_million',\n",
    "    'median_age'\n",
    "]\n",
    "\n",
    "dict_keywords = {}\n",
    "\n",
    "for i in keywords:\n",
    "    dict_keywords[i] = []"
   ]
  },
  {
   "cell_type": "code",
   "execution_count": 106,
   "metadata": {},
   "outputs": [
    {
     "output_type": "error",
     "ename": "IndentationError",
     "evalue": "expected an indented block (<ipython-input-106-a65c8fc2a143>, line 11)",
     "traceback": [
      "\u001b[0;36m  File \u001b[0;32m\"<ipython-input-106-a65c8fc2a143>\"\u001b[0;36m, line \u001b[0;32m11\u001b[0m\n\u001b[0;31m    count += 1\u001b[0m\n\u001b[0m    ^\u001b[0m\n\u001b[0;31mIndentationError\u001b[0m\u001b[0;31m:\u001b[0m expected an indented block\n"
     ]
    }
   ],
   "source": [
    "with open('data/owid-covid-data.csv') as csv_file:\n",
    "    \n",
    "    csv_reader = csv.reader(csv_file, delimiter=',')\n",
    "    count = 0\n",
    "    size_keywords = len(keywords)\n",
    "    line_used = [[] for i in range(size_keywords)]\n",
    "    index_line = [0, 3, 5, 10, 46]\n",
    "    for line in csv_reader:\n",
    "        if count == 1:\n",
    "            \n",
    "        count += 1\n",
    "        if(count==1):\n",
    "            break"
   ]
  },
  {
   "cell_type": "code",
   "execution_count": 84,
   "metadata": {},
   "outputs": [],
   "source": [
    "table = pd.DataFrame({\n",
    "    keywords[0]: dict_keywords[keywords[0]],\n",
    "    keywords[1]: dict_keywords[keywords[1]],\n",
    "    keywords[2]: dict_keywords[keywords[2]],\n",
    "    keywords[3]: dict_keywords[keywords[3]],\n",
    "    keywords[4]: dict_keywords[keywords[4]]\n",
    "})"
   ]
  },
  {
   "cell_type": "code",
   "execution_count": 95,
   "metadata": {},
   "outputs": [
    {
     "output_type": "stream",
     "name": "stdout",
     "text": [
      "Empty DataFrame\nColumns: [id, date, new_cases, new_cases_per_million, median_age]\nIndex: []\n"
     ]
    }
   ],
   "source": [
    "print(table)"
   ]
  },
  {
   "cell_type": "code",
   "execution_count": 107,
   "metadata": {},
   "outputs": [
    {
     "output_type": "stream",
     "name": "stdout",
     "text": [
      "99\n"
     ]
    }
   ],
   "source": [
    "inp = int(input())\n",
    "print(inp)"
   ]
  },
  {
   "cell_type": "code",
   "execution_count": null,
   "metadata": {},
   "outputs": [],
   "source": []
  }
 ]
}